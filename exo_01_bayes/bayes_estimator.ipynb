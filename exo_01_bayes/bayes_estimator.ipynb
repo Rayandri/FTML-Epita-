{
 "cells": [
  {
   "cell_type": "code",
   "execution_count": null,
   "id": "cd0747ea",
   "metadata": {},
   "outputs": [],
   "source": []
  }
 ],
 "metadata": {
  "kernelspec": {
   "display_name": "PyTorch RTX5060 (WSL)",
   "language": "python",
   "name": "rapids-env"
  },
  "language_info": {
   "name": "python",
   "version": "3.13.2"
  }
 },
 "nbformat": 4,
 "nbformat_minor": 5
}
